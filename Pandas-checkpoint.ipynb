{
 "cells": [
  {
   "cell_type": "markdown",
   "id": "859eb376",
   "metadata": {},
   "source": [
    "# Pandas"
   ]
  },
  {
   "cell_type": "code",
   "execution_count": 1,
   "id": "6b883318",
   "metadata": {},
   "outputs": [],
   "source": [
    "import pandas as pd\n",
    "import numpy as np"
   ]
  },
  {
   "cell_type": "code",
   "execution_count": 2,
   "id": "7ddfb3af",
   "metadata": {},
   "outputs": [
    {
     "data": {
      "text/plain": [
       "0    1.0\n",
       "1    3.0\n",
       "2    5.0\n",
       "3    NaN\n",
       "4    7.0\n",
       "5    8.0\n",
       "6    9.0\n",
       "dtype: float64"
      ]
     },
     "execution_count": 2,
     "metadata": {},
     "output_type": "execute_result"
    }
   ],
   "source": [
    "s = pd.Series([1,3,5,np.nan,7,8,9])\n",
    "s"
   ]
  },
  {
   "cell_type": "code",
   "execution_count": 3,
   "id": "4f87576d",
   "metadata": {},
   "outputs": [
    {
     "data": {
      "text/plain": [
       "DatetimeIndex(['2013-01-01', '2013-01-02', '2013-01-03', '2013-01-04',\n",
       "               '2013-01-05', '2013-01-06'],\n",
       "              dtype='datetime64[ns]', freq='D')"
      ]
     },
     "execution_count": 3,
     "metadata": {},
     "output_type": "execute_result"
    }
   ],
   "source": [
    "dates = pd.date_range(\"20130101\",periods=6)\n",
    "dates"
   ]
  },
  {
   "cell_type": "code",
   "execution_count": 4,
   "id": "b8f309a9",
   "metadata": {},
   "outputs": [
    {
     "data": {
      "text/html": [
       "<div>\n",
       "<style scoped>\n",
       "    .dataframe tbody tr th:only-of-type {\n",
       "        vertical-align: middle;\n",
       "    }\n",
       "\n",
       "    .dataframe tbody tr th {\n",
       "        vertical-align: top;\n",
       "    }\n",
       "\n",
       "    .dataframe thead th {\n",
       "        text-align: right;\n",
       "    }\n",
       "</style>\n",
       "<table border=\"1\" class=\"dataframe\">\n",
       "  <thead>\n",
       "    <tr style=\"text-align: right;\">\n",
       "      <th></th>\n",
       "      <th>A</th>\n",
       "      <th>B</th>\n",
       "      <th>C</th>\n",
       "      <th>D</th>\n",
       "    </tr>\n",
       "  </thead>\n",
       "  <tbody>\n",
       "    <tr>\n",
       "      <th>2013-01-01</th>\n",
       "      <td>0.396092</td>\n",
       "      <td>-0.791889</td>\n",
       "      <td>1.603159</td>\n",
       "      <td>-0.528221</td>\n",
       "    </tr>\n",
       "    <tr>\n",
       "      <th>2013-01-02</th>\n",
       "      <td>-1.348258</td>\n",
       "      <td>0.086880</td>\n",
       "      <td>0.475938</td>\n",
       "      <td>-1.724272</td>\n",
       "    </tr>\n",
       "    <tr>\n",
       "      <th>2013-01-03</th>\n",
       "      <td>0.002107</td>\n",
       "      <td>0.239484</td>\n",
       "      <td>-0.356182</td>\n",
       "      <td>-1.533319</td>\n",
       "    </tr>\n",
       "    <tr>\n",
       "      <th>2013-01-04</th>\n",
       "      <td>0.626191</td>\n",
       "      <td>1.362856</td>\n",
       "      <td>0.430231</td>\n",
       "      <td>-0.061595</td>\n",
       "    </tr>\n",
       "    <tr>\n",
       "      <th>2013-01-05</th>\n",
       "      <td>-0.019770</td>\n",
       "      <td>-0.811805</td>\n",
       "      <td>-0.002757</td>\n",
       "      <td>0.199498</td>\n",
       "    </tr>\n",
       "    <tr>\n",
       "      <th>2013-01-06</th>\n",
       "      <td>-1.521201</td>\n",
       "      <td>-1.167378</td>\n",
       "      <td>0.276715</td>\n",
       "      <td>-1.555739</td>\n",
       "    </tr>\n",
       "  </tbody>\n",
       "</table>\n",
       "</div>"
      ],
      "text/plain": [
       "                   A         B         C         D\n",
       "2013-01-01  0.396092 -0.791889  1.603159 -0.528221\n",
       "2013-01-02 -1.348258  0.086880  0.475938 -1.724272\n",
       "2013-01-03  0.002107  0.239484 -0.356182 -1.533319\n",
       "2013-01-04  0.626191  1.362856  0.430231 -0.061595\n",
       "2013-01-05 -0.019770 -0.811805 -0.002757  0.199498\n",
       "2013-01-06 -1.521201 -1.167378  0.276715 -1.555739"
      ]
     },
     "execution_count": 4,
     "metadata": {},
     "output_type": "execute_result"
    }
   ],
   "source": [
    "df = pd.DataFrame(np.random.randn(6,4), index=dates, columns=list(\"ABCD\"))\n",
    "df"
   ]
  },
  {
   "cell_type": "code",
   "execution_count": 5,
   "id": "e069b09c",
   "metadata": {},
   "outputs": [
    {
     "data": {
      "text/plain": [
       "A    float64\n",
       "B    float64\n",
       "C    float64\n",
       "D    float64\n",
       "dtype: object"
      ]
     },
     "execution_count": 5,
     "metadata": {},
     "output_type": "execute_result"
    }
   ],
   "source": [
    "df.dtypes"
   ]
  },
  {
   "cell_type": "code",
   "execution_count": 6,
   "id": "53ac7fe0",
   "metadata": {},
   "outputs": [
    {
     "data": {
      "text/html": [
       "<div>\n",
       "<style scoped>\n",
       "    .dataframe tbody tr th:only-of-type {\n",
       "        vertical-align: middle;\n",
       "    }\n",
       "\n",
       "    .dataframe tbody tr th {\n",
       "        vertical-align: top;\n",
       "    }\n",
       "\n",
       "    .dataframe thead th {\n",
       "        text-align: right;\n",
       "    }\n",
       "</style>\n",
       "<table border=\"1\" class=\"dataframe\">\n",
       "  <thead>\n",
       "    <tr style=\"text-align: right;\">\n",
       "      <th></th>\n",
       "      <th>A</th>\n",
       "      <th>B</th>\n",
       "      <th>C</th>\n",
       "      <th>D</th>\n",
       "    </tr>\n",
       "  </thead>\n",
       "  <tbody>\n",
       "    <tr>\n",
       "      <th>2013-01-01</th>\n",
       "      <td>0.396092</td>\n",
       "      <td>-0.791889</td>\n",
       "      <td>1.603159</td>\n",
       "      <td>-0.528221</td>\n",
       "    </tr>\n",
       "    <tr>\n",
       "      <th>2013-01-02</th>\n",
       "      <td>-1.348258</td>\n",
       "      <td>0.086880</td>\n",
       "      <td>0.475938</td>\n",
       "      <td>-1.724272</td>\n",
       "    </tr>\n",
       "    <tr>\n",
       "      <th>2013-01-03</th>\n",
       "      <td>0.002107</td>\n",
       "      <td>0.239484</td>\n",
       "      <td>-0.356182</td>\n",
       "      <td>-1.533319</td>\n",
       "    </tr>\n",
       "    <tr>\n",
       "      <th>2013-01-04</th>\n",
       "      <td>0.626191</td>\n",
       "      <td>1.362856</td>\n",
       "      <td>0.430231</td>\n",
       "      <td>-0.061595</td>\n",
       "    </tr>\n",
       "    <tr>\n",
       "      <th>2013-01-05</th>\n",
       "      <td>-0.019770</td>\n",
       "      <td>-0.811805</td>\n",
       "      <td>-0.002757</td>\n",
       "      <td>0.199498</td>\n",
       "    </tr>\n",
       "  </tbody>\n",
       "</table>\n",
       "</div>"
      ],
      "text/plain": [
       "                   A         B         C         D\n",
       "2013-01-01  0.396092 -0.791889  1.603159 -0.528221\n",
       "2013-01-02 -1.348258  0.086880  0.475938 -1.724272\n",
       "2013-01-03  0.002107  0.239484 -0.356182 -1.533319\n",
       "2013-01-04  0.626191  1.362856  0.430231 -0.061595\n",
       "2013-01-05 -0.019770 -0.811805 -0.002757  0.199498"
      ]
     },
     "execution_count": 6,
     "metadata": {},
     "output_type": "execute_result"
    }
   ],
   "source": [
    "df.head()"
   ]
  },
  {
   "cell_type": "code",
   "execution_count": 7,
   "id": "a2a1f657",
   "metadata": {},
   "outputs": [
    {
     "data": {
      "text/html": [
       "<div>\n",
       "<style scoped>\n",
       "    .dataframe tbody tr th:only-of-type {\n",
       "        vertical-align: middle;\n",
       "    }\n",
       "\n",
       "    .dataframe tbody tr th {\n",
       "        vertical-align: top;\n",
       "    }\n",
       "\n",
       "    .dataframe thead th {\n",
       "        text-align: right;\n",
       "    }\n",
       "</style>\n",
       "<table border=\"1\" class=\"dataframe\">\n",
       "  <thead>\n",
       "    <tr style=\"text-align: right;\">\n",
       "      <th></th>\n",
       "      <th>A</th>\n",
       "      <th>B</th>\n",
       "      <th>C</th>\n",
       "      <th>D</th>\n",
       "    </tr>\n",
       "  </thead>\n",
       "  <tbody>\n",
       "    <tr>\n",
       "      <th>2013-01-02</th>\n",
       "      <td>-1.348258</td>\n",
       "      <td>0.086880</td>\n",
       "      <td>0.475938</td>\n",
       "      <td>-1.724272</td>\n",
       "    </tr>\n",
       "    <tr>\n",
       "      <th>2013-01-03</th>\n",
       "      <td>0.002107</td>\n",
       "      <td>0.239484</td>\n",
       "      <td>-0.356182</td>\n",
       "      <td>-1.533319</td>\n",
       "    </tr>\n",
       "    <tr>\n",
       "      <th>2013-01-04</th>\n",
       "      <td>0.626191</td>\n",
       "      <td>1.362856</td>\n",
       "      <td>0.430231</td>\n",
       "      <td>-0.061595</td>\n",
       "    </tr>\n",
       "    <tr>\n",
       "      <th>2013-01-05</th>\n",
       "      <td>-0.019770</td>\n",
       "      <td>-0.811805</td>\n",
       "      <td>-0.002757</td>\n",
       "      <td>0.199498</td>\n",
       "    </tr>\n",
       "    <tr>\n",
       "      <th>2013-01-06</th>\n",
       "      <td>-1.521201</td>\n",
       "      <td>-1.167378</td>\n",
       "      <td>0.276715</td>\n",
       "      <td>-1.555739</td>\n",
       "    </tr>\n",
       "  </tbody>\n",
       "</table>\n",
       "</div>"
      ],
      "text/plain": [
       "                   A         B         C         D\n",
       "2013-01-02 -1.348258  0.086880  0.475938 -1.724272\n",
       "2013-01-03  0.002107  0.239484 -0.356182 -1.533319\n",
       "2013-01-04  0.626191  1.362856  0.430231 -0.061595\n",
       "2013-01-05 -0.019770 -0.811805 -0.002757  0.199498\n",
       "2013-01-06 -1.521201 -1.167378  0.276715 -1.555739"
      ]
     },
     "execution_count": 7,
     "metadata": {},
     "output_type": "execute_result"
    }
   ],
   "source": [
    "df.tail()"
   ]
  },
  {
   "cell_type": "code",
   "execution_count": 8,
   "id": "8363e44b",
   "metadata": {},
   "outputs": [
    {
     "data": {
      "text/plain": [
       "DatetimeIndex(['2013-01-01', '2013-01-02', '2013-01-03', '2013-01-04',\n",
       "               '2013-01-05', '2013-01-06'],\n",
       "              dtype='datetime64[ns]', freq='D')"
      ]
     },
     "execution_count": 8,
     "metadata": {},
     "output_type": "execute_result"
    }
   ],
   "source": [
    "df.index"
   ]
  },
  {
   "cell_type": "code",
   "execution_count": 9,
   "id": "130472d8",
   "metadata": {},
   "outputs": [
    {
     "data": {
      "text/plain": [
       "array([[ 0.3960925 , -0.79188915,  1.60315884, -0.52822135],\n",
       "       [-1.34825845,  0.08687973,  0.4759378 , -1.72427169],\n",
       "       [ 0.00210654,  0.23948393, -0.35618182, -1.53331941],\n",
       "       [ 0.62619107,  1.36285566,  0.43023099, -0.06159507],\n",
       "       [-0.01976961, -0.81180456, -0.00275721,  0.19949831],\n",
       "       [-1.5212008 , -1.16737816,  0.27671509, -1.55573895]])"
      ]
     },
     "execution_count": 9,
     "metadata": {},
     "output_type": "execute_result"
    }
   ],
   "source": [
    "df.to_numpy()"
   ]
  },
  {
   "cell_type": "code",
   "execution_count": 10,
   "id": "0c7603e2",
   "metadata": {},
   "outputs": [
    {
     "data": {
      "text/html": [
       "<div>\n",
       "<style scoped>\n",
       "    .dataframe tbody tr th:only-of-type {\n",
       "        vertical-align: middle;\n",
       "    }\n",
       "\n",
       "    .dataframe tbody tr th {\n",
       "        vertical-align: top;\n",
       "    }\n",
       "\n",
       "    .dataframe thead th {\n",
       "        text-align: right;\n",
       "    }\n",
       "</style>\n",
       "<table border=\"1\" class=\"dataframe\">\n",
       "  <thead>\n",
       "    <tr style=\"text-align: right;\">\n",
       "      <th></th>\n",
       "      <th>A</th>\n",
       "      <th>B</th>\n",
       "      <th>C</th>\n",
       "      <th>D</th>\n",
       "    </tr>\n",
       "  </thead>\n",
       "  <tbody>\n",
       "    <tr>\n",
       "      <th>count</th>\n",
       "      <td>6.000000</td>\n",
       "      <td>6.000000</td>\n",
       "      <td>6.000000</td>\n",
       "      <td>6.000000</td>\n",
       "    </tr>\n",
       "    <tr>\n",
       "      <th>mean</th>\n",
       "      <td>-0.310806</td>\n",
       "      <td>-0.180309</td>\n",
       "      <td>0.404517</td>\n",
       "      <td>-0.867275</td>\n",
       "    </tr>\n",
       "    <tr>\n",
       "      <th>std</th>\n",
       "      <td>0.905721</td>\n",
       "      <td>0.935531</td>\n",
       "      <td>0.663833</td>\n",
       "      <td>0.843104</td>\n",
       "    </tr>\n",
       "    <tr>\n",
       "      <th>min</th>\n",
       "      <td>-1.521201</td>\n",
       "      <td>-1.167378</td>\n",
       "      <td>-0.356182</td>\n",
       "      <td>-1.724272</td>\n",
       "    </tr>\n",
       "    <tr>\n",
       "      <th>25%</th>\n",
       "      <td>-1.016136</td>\n",
       "      <td>-0.806826</td>\n",
       "      <td>0.067111</td>\n",
       "      <td>-1.550134</td>\n",
       "    </tr>\n",
       "    <tr>\n",
       "      <th>50%</th>\n",
       "      <td>-0.008832</td>\n",
       "      <td>-0.352505</td>\n",
       "      <td>0.353473</td>\n",
       "      <td>-1.030770</td>\n",
       "    </tr>\n",
       "    <tr>\n",
       "      <th>75%</th>\n",
       "      <td>0.297596</td>\n",
       "      <td>0.201333</td>\n",
       "      <td>0.464511</td>\n",
       "      <td>-0.178252</td>\n",
       "    </tr>\n",
       "    <tr>\n",
       "      <th>max</th>\n",
       "      <td>0.626191</td>\n",
       "      <td>1.362856</td>\n",
       "      <td>1.603159</td>\n",
       "      <td>0.199498</td>\n",
       "    </tr>\n",
       "  </tbody>\n",
       "</table>\n",
       "</div>"
      ],
      "text/plain": [
       "              A         B         C         D\n",
       "count  6.000000  6.000000  6.000000  6.000000\n",
       "mean  -0.310806 -0.180309  0.404517 -0.867275\n",
       "std    0.905721  0.935531  0.663833  0.843104\n",
       "min   -1.521201 -1.167378 -0.356182 -1.724272\n",
       "25%   -1.016136 -0.806826  0.067111 -1.550134\n",
       "50%   -0.008832 -0.352505  0.353473 -1.030770\n",
       "75%    0.297596  0.201333  0.464511 -0.178252\n",
       "max    0.626191  1.362856  1.603159  0.199498"
      ]
     },
     "execution_count": 10,
     "metadata": {},
     "output_type": "execute_result"
    }
   ],
   "source": [
    "df.describe()"
   ]
  },
  {
   "cell_type": "code",
   "execution_count": 11,
   "id": "135aea1a",
   "metadata": {},
   "outputs": [
    {
     "data": {
      "text/html": [
       "<div>\n",
       "<style scoped>\n",
       "    .dataframe tbody tr th:only-of-type {\n",
       "        vertical-align: middle;\n",
       "    }\n",
       "\n",
       "    .dataframe tbody tr th {\n",
       "        vertical-align: top;\n",
       "    }\n",
       "\n",
       "    .dataframe thead th {\n",
       "        text-align: right;\n",
       "    }\n",
       "</style>\n",
       "<table border=\"1\" class=\"dataframe\">\n",
       "  <thead>\n",
       "    <tr style=\"text-align: right;\">\n",
       "      <th></th>\n",
       "      <th>2013-01-01</th>\n",
       "      <th>2013-01-02</th>\n",
       "      <th>2013-01-03</th>\n",
       "      <th>2013-01-04</th>\n",
       "      <th>2013-01-05</th>\n",
       "      <th>2013-01-06</th>\n",
       "    </tr>\n",
       "  </thead>\n",
       "  <tbody>\n",
       "    <tr>\n",
       "      <th>A</th>\n",
       "      <td>0.396092</td>\n",
       "      <td>-1.348258</td>\n",
       "      <td>0.002107</td>\n",
       "      <td>0.626191</td>\n",
       "      <td>-0.019770</td>\n",
       "      <td>-1.521201</td>\n",
       "    </tr>\n",
       "    <tr>\n",
       "      <th>B</th>\n",
       "      <td>-0.791889</td>\n",
       "      <td>0.086880</td>\n",
       "      <td>0.239484</td>\n",
       "      <td>1.362856</td>\n",
       "      <td>-0.811805</td>\n",
       "      <td>-1.167378</td>\n",
       "    </tr>\n",
       "    <tr>\n",
       "      <th>C</th>\n",
       "      <td>1.603159</td>\n",
       "      <td>0.475938</td>\n",
       "      <td>-0.356182</td>\n",
       "      <td>0.430231</td>\n",
       "      <td>-0.002757</td>\n",
       "      <td>0.276715</td>\n",
       "    </tr>\n",
       "    <tr>\n",
       "      <th>D</th>\n",
       "      <td>-0.528221</td>\n",
       "      <td>-1.724272</td>\n",
       "      <td>-1.533319</td>\n",
       "      <td>-0.061595</td>\n",
       "      <td>0.199498</td>\n",
       "      <td>-1.555739</td>\n",
       "    </tr>\n",
       "  </tbody>\n",
       "</table>\n",
       "</div>"
      ],
      "text/plain": [
       "   2013-01-01  2013-01-02  2013-01-03  2013-01-04  2013-01-05  2013-01-06\n",
       "A    0.396092   -1.348258    0.002107    0.626191   -0.019770   -1.521201\n",
       "B   -0.791889    0.086880    0.239484    1.362856   -0.811805   -1.167378\n",
       "C    1.603159    0.475938   -0.356182    0.430231   -0.002757    0.276715\n",
       "D   -0.528221   -1.724272   -1.533319   -0.061595    0.199498   -1.555739"
      ]
     },
     "execution_count": 11,
     "metadata": {},
     "output_type": "execute_result"
    }
   ],
   "source": [
    "#to transpose\n",
    "df.T"
   ]
  },
  {
   "cell_type": "code",
   "execution_count": 12,
   "id": "89c70bfe",
   "metadata": {},
   "outputs": [
    {
     "data": {
      "text/html": [
       "<div>\n",
       "<style scoped>\n",
       "    .dataframe tbody tr th:only-of-type {\n",
       "        vertical-align: middle;\n",
       "    }\n",
       "\n",
       "    .dataframe tbody tr th {\n",
       "        vertical-align: top;\n",
       "    }\n",
       "\n",
       "    .dataframe thead th {\n",
       "        text-align: right;\n",
       "    }\n",
       "</style>\n",
       "<table border=\"1\" class=\"dataframe\">\n",
       "  <thead>\n",
       "    <tr style=\"text-align: right;\">\n",
       "      <th></th>\n",
       "      <th>A</th>\n",
       "      <th>B</th>\n",
       "      <th>C</th>\n",
       "      <th>D</th>\n",
       "    </tr>\n",
       "  </thead>\n",
       "  <tbody>\n",
       "    <tr>\n",
       "      <th>2013-01-01</th>\n",
       "      <td>0.396092</td>\n",
       "      <td>-0.791889</td>\n",
       "      <td>1.603159</td>\n",
       "      <td>-0.528221</td>\n",
       "    </tr>\n",
       "    <tr>\n",
       "      <th>2013-01-02</th>\n",
       "      <td>-1.348258</td>\n",
       "      <td>0.086880</td>\n",
       "      <td>0.475938</td>\n",
       "      <td>-1.724272</td>\n",
       "    </tr>\n",
       "    <tr>\n",
       "      <th>2013-01-03</th>\n",
       "      <td>0.002107</td>\n",
       "      <td>0.239484</td>\n",
       "      <td>-0.356182</td>\n",
       "      <td>-1.533319</td>\n",
       "    </tr>\n",
       "    <tr>\n",
       "      <th>2013-01-04</th>\n",
       "      <td>0.626191</td>\n",
       "      <td>1.362856</td>\n",
       "      <td>0.430231</td>\n",
       "      <td>-0.061595</td>\n",
       "    </tr>\n",
       "    <tr>\n",
       "      <th>2013-01-05</th>\n",
       "      <td>-0.019770</td>\n",
       "      <td>-0.811805</td>\n",
       "      <td>-0.002757</td>\n",
       "      <td>0.199498</td>\n",
       "    </tr>\n",
       "    <tr>\n",
       "      <th>2013-01-06</th>\n",
       "      <td>-1.521201</td>\n",
       "      <td>-1.167378</td>\n",
       "      <td>0.276715</td>\n",
       "      <td>-1.555739</td>\n",
       "    </tr>\n",
       "  </tbody>\n",
       "</table>\n",
       "</div>"
      ],
      "text/plain": [
       "                   A         B         C         D\n",
       "2013-01-01  0.396092 -0.791889  1.603159 -0.528221\n",
       "2013-01-02 -1.348258  0.086880  0.475938 -1.724272\n",
       "2013-01-03  0.002107  0.239484 -0.356182 -1.533319\n",
       "2013-01-04  0.626191  1.362856  0.430231 -0.061595\n",
       "2013-01-05 -0.019770 -0.811805 -0.002757  0.199498\n",
       "2013-01-06 -1.521201 -1.167378  0.276715 -1.555739"
      ]
     },
     "execution_count": 12,
     "metadata": {},
     "output_type": "execute_result"
    }
   ],
   "source": [
    "#to sort\n",
    "df.sort_index(axis=1, ascending=True)"
   ]
  },
  {
   "cell_type": "code",
   "execution_count": 13,
   "id": "b6361a8b",
   "metadata": {},
   "outputs": [
    {
     "data": {
      "text/html": [
       "<div>\n",
       "<style scoped>\n",
       "    .dataframe tbody tr th:only-of-type {\n",
       "        vertical-align: middle;\n",
       "    }\n",
       "\n",
       "    .dataframe tbody tr th {\n",
       "        vertical-align: top;\n",
       "    }\n",
       "\n",
       "    .dataframe thead th {\n",
       "        text-align: right;\n",
       "    }\n",
       "</style>\n",
       "<table border=\"1\" class=\"dataframe\">\n",
       "  <thead>\n",
       "    <tr style=\"text-align: right;\">\n",
       "      <th></th>\n",
       "      <th>A</th>\n",
       "      <th>B</th>\n",
       "      <th>C</th>\n",
       "      <th>D</th>\n",
       "    </tr>\n",
       "  </thead>\n",
       "  <tbody>\n",
       "    <tr>\n",
       "      <th>2013-01-06</th>\n",
       "      <td>-1.521201</td>\n",
       "      <td>-1.167378</td>\n",
       "      <td>0.276715</td>\n",
       "      <td>-1.555739</td>\n",
       "    </tr>\n",
       "    <tr>\n",
       "      <th>2013-01-05</th>\n",
       "      <td>-0.019770</td>\n",
       "      <td>-0.811805</td>\n",
       "      <td>-0.002757</td>\n",
       "      <td>0.199498</td>\n",
       "    </tr>\n",
       "    <tr>\n",
       "      <th>2013-01-01</th>\n",
       "      <td>0.396092</td>\n",
       "      <td>-0.791889</td>\n",
       "      <td>1.603159</td>\n",
       "      <td>-0.528221</td>\n",
       "    </tr>\n",
       "    <tr>\n",
       "      <th>2013-01-02</th>\n",
       "      <td>-1.348258</td>\n",
       "      <td>0.086880</td>\n",
       "      <td>0.475938</td>\n",
       "      <td>-1.724272</td>\n",
       "    </tr>\n",
       "    <tr>\n",
       "      <th>2013-01-03</th>\n",
       "      <td>0.002107</td>\n",
       "      <td>0.239484</td>\n",
       "      <td>-0.356182</td>\n",
       "      <td>-1.533319</td>\n",
       "    </tr>\n",
       "    <tr>\n",
       "      <th>2013-01-04</th>\n",
       "      <td>0.626191</td>\n",
       "      <td>1.362856</td>\n",
       "      <td>0.430231</td>\n",
       "      <td>-0.061595</td>\n",
       "    </tr>\n",
       "  </tbody>\n",
       "</table>\n",
       "</div>"
      ],
      "text/plain": [
       "                   A         B         C         D\n",
       "2013-01-06 -1.521201 -1.167378  0.276715 -1.555739\n",
       "2013-01-05 -0.019770 -0.811805 -0.002757  0.199498\n",
       "2013-01-01  0.396092 -0.791889  1.603159 -0.528221\n",
       "2013-01-02 -1.348258  0.086880  0.475938 -1.724272\n",
       "2013-01-03  0.002107  0.239484 -0.356182 -1.533319\n",
       "2013-01-04  0.626191  1.362856  0.430231 -0.061595"
      ]
     },
     "execution_count": 13,
     "metadata": {},
     "output_type": "execute_result"
    }
   ],
   "source": [
    "#sort based on values \n",
    "df.sort_values(by=\"B\", ascending=True)"
   ]
  },
  {
   "cell_type": "code",
   "execution_count": 14,
   "id": "be072c23",
   "metadata": {},
   "outputs": [
    {
     "data": {
      "text/plain": [
       "(2013-01-01    0.396092\n",
       " 2013-01-02   -1.348258\n",
       " 2013-01-03    0.002107\n",
       " 2013-01-04    0.626191\n",
       " 2013-01-05   -0.019770\n",
       " 2013-01-06   -1.521201\n",
       " Freq: D, Name: A, dtype: float64,\n",
       " ['B'])"
      ]
     },
     "execution_count": 14,
     "metadata": {},
     "output_type": "execute_result"
    }
   ],
   "source": [
    "df[\"A\"],[\"B\"]"
   ]
  },
  {
   "cell_type": "code",
   "execution_count": 15,
   "id": "5359712e",
   "metadata": {},
   "outputs": [
    {
     "data": {
      "text/html": [
       "<div>\n",
       "<style scoped>\n",
       "    .dataframe tbody tr th:only-of-type {\n",
       "        vertical-align: middle;\n",
       "    }\n",
       "\n",
       "    .dataframe tbody tr th {\n",
       "        vertical-align: top;\n",
       "    }\n",
       "\n",
       "    .dataframe thead th {\n",
       "        text-align: right;\n",
       "    }\n",
       "</style>\n",
       "<table border=\"1\" class=\"dataframe\">\n",
       "  <thead>\n",
       "    <tr style=\"text-align: right;\">\n",
       "      <th></th>\n",
       "      <th>A</th>\n",
       "      <th>B</th>\n",
       "      <th>C</th>\n",
       "      <th>D</th>\n",
       "    </tr>\n",
       "  </thead>\n",
       "  <tbody>\n",
       "    <tr>\n",
       "      <th>2013-01-01</th>\n",
       "      <td>0.396092</td>\n",
       "      <td>-0.791889</td>\n",
       "      <td>1.603159</td>\n",
       "      <td>-0.528221</td>\n",
       "    </tr>\n",
       "    <tr>\n",
       "      <th>2013-01-02</th>\n",
       "      <td>-1.348258</td>\n",
       "      <td>0.086880</td>\n",
       "      <td>0.475938</td>\n",
       "      <td>-1.724272</td>\n",
       "    </tr>\n",
       "    <tr>\n",
       "      <th>2013-01-03</th>\n",
       "      <td>0.002107</td>\n",
       "      <td>0.239484</td>\n",
       "      <td>-0.356182</td>\n",
       "      <td>-1.533319</td>\n",
       "    </tr>\n",
       "    <tr>\n",
       "      <th>2013-01-04</th>\n",
       "      <td>0.626191</td>\n",
       "      <td>1.362856</td>\n",
       "      <td>0.430231</td>\n",
       "      <td>-0.061595</td>\n",
       "    </tr>\n",
       "    <tr>\n",
       "      <th>2013-01-05</th>\n",
       "      <td>-0.019770</td>\n",
       "      <td>-0.811805</td>\n",
       "      <td>-0.002757</td>\n",
       "      <td>0.199498</td>\n",
       "    </tr>\n",
       "    <tr>\n",
       "      <th>2013-01-06</th>\n",
       "      <td>-1.521201</td>\n",
       "      <td>-1.167378</td>\n",
       "      <td>0.276715</td>\n",
       "      <td>-1.555739</td>\n",
       "    </tr>\n",
       "  </tbody>\n",
       "</table>\n",
       "</div>"
      ],
      "text/plain": [
       "                   A         B         C         D\n",
       "2013-01-01  0.396092 -0.791889  1.603159 -0.528221\n",
       "2013-01-02 -1.348258  0.086880  0.475938 -1.724272\n",
       "2013-01-03  0.002107  0.239484 -0.356182 -1.533319\n",
       "2013-01-04  0.626191  1.362856  0.430231 -0.061595\n",
       "2013-01-05 -0.019770 -0.811805 -0.002757  0.199498\n",
       "2013-01-06 -1.521201 -1.167378  0.276715 -1.555739"
      ]
     },
     "execution_count": 15,
     "metadata": {},
     "output_type": "execute_result"
    }
   ],
   "source": [
    "#rows wise selection\n",
    "df[0:10]"
   ]
  },
  {
   "cell_type": "code",
   "execution_count": 16,
   "id": "6d7e21c0",
   "metadata": {},
   "outputs": [
    {
     "data": {
      "text/plain": [
       "A    0.396092\n",
       "B   -0.791889\n",
       "C    1.603159\n",
       "D   -0.528221\n",
       "Name: 2013-01-01 00:00:00, dtype: float64"
      ]
     },
     "execution_count": 16,
     "metadata": {},
     "output_type": "execute_result"
    }
   ],
   "source": [
    "df.loc[dates[0]]"
   ]
  },
  {
   "cell_type": "code",
   "execution_count": 17,
   "id": "4ccd2cc8",
   "metadata": {},
   "outputs": [
    {
     "data": {
      "text/html": [
       "<div>\n",
       "<style scoped>\n",
       "    .dataframe tbody tr th:only-of-type {\n",
       "        vertical-align: middle;\n",
       "    }\n",
       "\n",
       "    .dataframe tbody tr th {\n",
       "        vertical-align: top;\n",
       "    }\n",
       "\n",
       "    .dataframe thead th {\n",
       "        text-align: right;\n",
       "    }\n",
       "</style>\n",
       "<table border=\"1\" class=\"dataframe\">\n",
       "  <thead>\n",
       "    <tr style=\"text-align: right;\">\n",
       "      <th></th>\n",
       "      <th>A</th>\n",
       "      <th>B</th>\n",
       "    </tr>\n",
       "  </thead>\n",
       "  <tbody>\n",
       "    <tr>\n",
       "      <th>2013-01-01</th>\n",
       "      <td>0.396092</td>\n",
       "      <td>-0.791889</td>\n",
       "    </tr>\n",
       "    <tr>\n",
       "      <th>2013-01-02</th>\n",
       "      <td>-1.348258</td>\n",
       "      <td>0.086880</td>\n",
       "    </tr>\n",
       "    <tr>\n",
       "      <th>2013-01-03</th>\n",
       "      <td>0.002107</td>\n",
       "      <td>0.239484</td>\n",
       "    </tr>\n",
       "    <tr>\n",
       "      <th>2013-01-04</th>\n",
       "      <td>0.626191</td>\n",
       "      <td>1.362856</td>\n",
       "    </tr>\n",
       "    <tr>\n",
       "      <th>2013-01-05</th>\n",
       "      <td>-0.019770</td>\n",
       "      <td>-0.811805</td>\n",
       "    </tr>\n",
       "    <tr>\n",
       "      <th>2013-01-06</th>\n",
       "      <td>-1.521201</td>\n",
       "      <td>-1.167378</td>\n",
       "    </tr>\n",
       "  </tbody>\n",
       "</table>\n",
       "</div>"
      ],
      "text/plain": [
       "                   A         B\n",
       "2013-01-01  0.396092 -0.791889\n",
       "2013-01-02 -1.348258  0.086880\n",
       "2013-01-03  0.002107  0.239484\n",
       "2013-01-04  0.626191  1.362856\n",
       "2013-01-05 -0.019770 -0.811805\n",
       "2013-01-06 -1.521201 -1.167378"
      ]
     },
     "execution_count": 17,
     "metadata": {},
     "output_type": "execute_result"
    }
   ],
   "source": [
    "df.loc[:,[\"A\", \"B\"]]"
   ]
  },
  {
   "cell_type": "code",
   "execution_count": 18,
   "id": "a8f39840",
   "metadata": {},
   "outputs": [
    {
     "data": {
      "text/html": [
       "<div>\n",
       "<style scoped>\n",
       "    .dataframe tbody tr th:only-of-type {\n",
       "        vertical-align: middle;\n",
       "    }\n",
       "\n",
       "    .dataframe tbody tr th {\n",
       "        vertical-align: top;\n",
       "    }\n",
       "\n",
       "    .dataframe thead th {\n",
       "        text-align: right;\n",
       "    }\n",
       "</style>\n",
       "<table border=\"1\" class=\"dataframe\">\n",
       "  <thead>\n",
       "    <tr style=\"text-align: right;\">\n",
       "      <th></th>\n",
       "      <th>A</th>\n",
       "      <th>B</th>\n",
       "    </tr>\n",
       "  </thead>\n",
       "  <tbody>\n",
       "  </tbody>\n",
       "</table>\n",
       "</div>"
      ],
      "text/plain": [
       "Empty DataFrame\n",
       "Columns: [A, B]\n",
       "Index: []"
      ]
     },
     "execution_count": 18,
     "metadata": {},
     "output_type": "execute_result"
    }
   ],
   "source": [
    "df.loc[\"20220102\":\"20220104\",[\"A\", \"B\"]]"
   ]
  },
  {
   "cell_type": "code",
   "execution_count": 19,
   "id": "50f5152e",
   "metadata": {},
   "outputs": [
    {
     "data": {
      "text/plain": [
       "0.39609249957400966"
      ]
     },
     "execution_count": 19,
     "metadata": {},
     "output_type": "execute_result"
    }
   ],
   "source": [
    "#to get value of specfic date\n",
    "df.at[dates[0],\"A\"] "
   ]
  },
  {
   "cell_type": "code",
   "execution_count": 20,
   "id": "98a145c0",
   "metadata": {},
   "outputs": [
    {
     "data": {
      "text/plain": [
       "-1.5212007984566667"
      ]
     },
     "execution_count": 20,
     "metadata": {},
     "output_type": "execute_result"
    }
   ],
   "source": [
    "df.at[dates[5],\"A\"] "
   ]
  },
  {
   "cell_type": "code",
   "execution_count": 21,
   "id": "ac3ccc09",
   "metadata": {},
   "outputs": [
    {
     "data": {
      "text/html": [
       "<div>\n",
       "<style scoped>\n",
       "    .dataframe tbody tr th:only-of-type {\n",
       "        vertical-align: middle;\n",
       "    }\n",
       "\n",
       "    .dataframe tbody tr th {\n",
       "        vertical-align: top;\n",
       "    }\n",
       "\n",
       "    .dataframe thead th {\n",
       "        text-align: right;\n",
       "    }\n",
       "</style>\n",
       "<table border=\"1\" class=\"dataframe\">\n",
       "  <thead>\n",
       "    <tr style=\"text-align: right;\">\n",
       "      <th></th>\n",
       "      <th>A</th>\n",
       "      <th>B</th>\n",
       "      <th>C</th>\n",
       "      <th>D</th>\n",
       "    </tr>\n",
       "  </thead>\n",
       "  <tbody>\n",
       "    <tr>\n",
       "      <th>2013-01-04</th>\n",
       "      <td>0.626191</td>\n",
       "      <td>1.362856</td>\n",
       "      <td>0.430231</td>\n",
       "      <td>-0.061595</td>\n",
       "    </tr>\n",
       "    <tr>\n",
       "      <th>2013-01-05</th>\n",
       "      <td>-0.019770</td>\n",
       "      <td>-0.811805</td>\n",
       "      <td>-0.002757</td>\n",
       "      <td>0.199498</td>\n",
       "    </tr>\n",
       "    <tr>\n",
       "      <th>2013-01-06</th>\n",
       "      <td>-1.521201</td>\n",
       "      <td>-1.167378</td>\n",
       "      <td>0.276715</td>\n",
       "      <td>-1.555739</td>\n",
       "    </tr>\n",
       "  </tbody>\n",
       "</table>\n",
       "</div>"
      ],
      "text/plain": [
       "                   A         B         C         D\n",
       "2013-01-04  0.626191  1.362856  0.430231 -0.061595\n",
       "2013-01-05 -0.019770 -0.811805 -0.002757  0.199498\n",
       "2013-01-06 -1.521201 -1.167378  0.276715 -1.555739"
      ]
     },
     "execution_count": 21,
     "metadata": {},
     "output_type": "execute_result"
    }
   ],
   "source": [
    "#to get value of specfic position\n",
    "df.iloc[3:10]"
   ]
  },
  {
   "cell_type": "code",
   "execution_count": 22,
   "id": "ae19d943",
   "metadata": {},
   "outputs": [
    {
     "data": {
      "text/html": [
       "<div>\n",
       "<style scoped>\n",
       "    .dataframe tbody tr th:only-of-type {\n",
       "        vertical-align: middle;\n",
       "    }\n",
       "\n",
       "    .dataframe tbody tr th {\n",
       "        vertical-align: top;\n",
       "    }\n",
       "\n",
       "    .dataframe thead th {\n",
       "        text-align: right;\n",
       "    }\n",
       "</style>\n",
       "<table border=\"1\" class=\"dataframe\">\n",
       "  <thead>\n",
       "    <tr style=\"text-align: right;\">\n",
       "      <th></th>\n",
       "      <th>A</th>\n",
       "      <th>B</th>\n",
       "      <th>C</th>\n",
       "      <th>D</th>\n",
       "    </tr>\n",
       "  </thead>\n",
       "  <tbody>\n",
       "    <tr>\n",
       "      <th>2013-01-01</th>\n",
       "      <td>0.396092</td>\n",
       "      <td>-0.791889</td>\n",
       "      <td>1.603159</td>\n",
       "      <td>-0.528221</td>\n",
       "    </tr>\n",
       "    <tr>\n",
       "      <th>2013-01-03</th>\n",
       "      <td>0.002107</td>\n",
       "      <td>0.239484</td>\n",
       "      <td>-0.356182</td>\n",
       "      <td>-1.533319</td>\n",
       "    </tr>\n",
       "    <tr>\n",
       "      <th>2013-01-04</th>\n",
       "      <td>0.626191</td>\n",
       "      <td>1.362856</td>\n",
       "      <td>0.430231</td>\n",
       "      <td>-0.061595</td>\n",
       "    </tr>\n",
       "  </tbody>\n",
       "</table>\n",
       "</div>"
      ],
      "text/plain": [
       "                   A         B         C         D\n",
       "2013-01-01  0.396092 -0.791889  1.603159 -0.528221\n",
       "2013-01-03  0.002107  0.239484 -0.356182 -1.533319\n",
       "2013-01-04  0.626191  1.362856  0.430231 -0.061595"
      ]
     },
     "execution_count": 22,
     "metadata": {},
     "output_type": "execute_result"
    }
   ],
   "source": [
    "df[df[\"A\"]>0]"
   ]
  },
  {
   "cell_type": "code",
   "execution_count": null,
   "id": "bd4ed7da",
   "metadata": {},
   "outputs": [],
   "source": []
  }
 ],
 "metadata": {
  "kernelspec": {
   "display_name": "Python 3 (ipykernel)",
   "language": "python",
   "name": "python3"
  },
  "language_info": {
   "codemirror_mode": {
    "name": "ipython",
    "version": 3
   },
   "file_extension": ".py",
   "mimetype": "text/x-python",
   "name": "python",
   "nbconvert_exporter": "python",
   "pygments_lexer": "ipython3",
   "version": "3.9.12"
  }
 },
 "nbformat": 4,
 "nbformat_minor": 5
}
